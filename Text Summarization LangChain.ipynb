{
 "cells": [
  {
   "cell_type": "code",
   "execution_count": 12,
   "id": "4b1103cb-6800-469a-87a7-ddf189f5c4ca",
   "metadata": {},
   "outputs": [],
   "source": [
    "import os\n",
    "os.environ['PINECONE_API_KEY'] = \"xxx\"\n",
    "openai_api_key = os.getenv('OPENAI_API_KEY')\n",
    "# Set the API key\n",
    "os.environ['OPENAI_API_KEY'] = \"xxx\"\n",
    "\n",
    "# Now you can use the API key\n",
    "openai_api_key = os.getenv('OPENAI_API_KEY')"
   ]
  },
  {
   "cell_type": "code",
   "execution_count": 20,
   "id": "96435adf-00c7-4dbd-af22-1e6168ea34ce",
   "metadata": {},
   "outputs": [],
   "source": [
    "import warnings\n",
    "warnings.filterwarnings('ignore', module='langchain')"
   ]
  },
  {
   "cell_type": "markdown",
   "id": "c3707123-736b-485b-aa8b-ee4b3943b4ef",
   "metadata": {},
   "source": [
    "### Basic Prompt"
   ]
  },
  {
   "cell_type": "code",
   "execution_count": 8,
   "id": "4694c2a5-39bf-4410-8971-92201f181a0b",
   "metadata": {},
   "outputs": [],
   "source": [
    "from langchain.chat_models import ChatOpenAI\n",
    "from langchain.schema import(\n",
    "    AIMessage,\n",
    "    HumanMessage,\n",
    "    SystemMessage\n",
    ")\n"
   ]
  },
  {
   "cell_type": "code",
   "execution_count": 14,
   "id": "945b2ac2-e028-4f3d-a910-703dca8972ee",
   "metadata": {},
   "outputs": [],
   "source": [
    "text= \"\"\"\n",
    "Avion Rewards, the largest proprietary loyalty program\n",
    "in Canada, was recognized as the International Loyalty\n",
    "Program of the Year in Americas and Best Loyalty /\n",
    "Benefits in a Financial Product at the 2023 International\n",
    "Loyalty Awards; In 2023, Avion Rewards expanded\n",
    "access to all Canadians regardless of where they bank\n",
    "or shop, bringing unparalleled savings and flexibility\n",
    "and making a fundamental shift in how the rewards\n",
    "program delivers benefits\n",
    "Announced a new loyalty partnership with METRO Inc.\n",
    "with the launch of the no annual fee moi RBC® Visa‡\n",
    "credit card, which earns Moi‡ points on all purchases as\n",
    "well as allows cardholders access to unique savings\n",
    "and offers from Avion Rewards and its extensive\n",
    "merchant partner network\n",
    "Launched Canada’s new First Home Savings Account\n",
    "(FHSA) in April 2023 to help Canadians save tax free for\n",
    "their first home, making it available as quickly and\n",
    "conveniently as possible through multiple channels,\n",
    "including RBC Direct Investing, RBC InvestEase® and\n",
    "RBC in-branch advisors\n",
    "Acquired OJOHome Canada Ltd., which operates a\n",
    "comprehensive real estate technology platform,\n",
    "HousefulTM (formerly OJO), bolstered by artificial\n",
    "intelligence (AI), to further streamline the home buying\n",
    "journey for Canadians while supporting them at every\n",
    "stage with intuitive, digitally-enabled and insightsdriven\n",
    "experiences\n",
    "Continued to build world-class capabilities through the\n",
    "RBC PayEdgeTM platform, leveraging data to increase\n",
    "strategic value through industry and client-specific\n",
    "insights to offer superior working capital solutions to\n",
    "our business clients\n",
    "Maintained our focus on key high-growth and highvalue\n",
    "segments, such as youth and young adults,\n",
    "newcomers, business owners, healthcare professionals,\n",
    "retirees, and HNW clients\n",
    "Drove significant new-to-RBC client acquisition from\n",
    "newcomers and new partnerships, including ICICI Bank\n",
    "Canada\n",
    "\"\"\"\n",
    "\n",
    "messages = [\n",
    "    SystemMessage(content='You are an expert copywriter with expertize in summarizing documents'),\n",
    "    HumanMessage(content=f'Please provide a short and concise summary of the following text:\\n TEXT: {text}')\n",
    "]\n",
    "\n",
    "llm = ChatOpenAI(temperature=0, model_name='gpt-3.5-turbo', openai_api_key=openai_api_key)\n",
    "\n"
   ]
  },
  {
   "cell_type": "code",
   "execution_count": 16,
   "id": "7746746e-d082-4bdb-9a08-6af2cce596f3",
   "metadata": {},
   "outputs": [
    {
     "data": {
      "text/plain": [
       "404"
      ]
     },
     "execution_count": 16,
     "metadata": {},
     "output_type": "execute_result"
    }
   ],
   "source": [
    "llm.get_num_tokens(text)"
   ]
  },
  {
   "cell_type": "code",
   "execution_count": 22,
   "id": "f98aca1f-241a-45d6-8635-81b059b9d14a",
   "metadata": {},
   "outputs": [
    {
     "name": "stdout",
     "output_type": "stream",
     "text": [
      "Avion Rewards, Canada's largest loyalty program, won International Loyalty Program of the Year and Best Loyalty/Benefits in a Financial Product at the 2023 International Loyalty Awards. They expanded access to all Canadians, launched a new no annual fee credit card with METRO Inc., introduced Canada's First Home Savings Account, acquired OJOHome Canada Ltd., enhanced capabilities with RBC PayEdgeTM, and focused on key high-growth segments. They also drove new client acquisition from newcomers and new partnerships.\n"
     ]
    }
   ],
   "source": [
    "summary_output = llm(messages)\n",
    "print(summary_output.content)"
   ]
  },
  {
   "cell_type": "markdown",
   "id": "65fa2777-14e2-42eb-8dfc-2b5ff5d7c347",
   "metadata": {},
   "source": [
    "### Summarizing Using Prompt Templates"
   ]
  },
  {
   "cell_type": "code",
   "execution_count": 25,
   "id": "1fa18346-9c05-4095-8dd9-d3419ec1bcf0",
   "metadata": {},
   "outputs": [],
   "source": [
    "from langchain import PromptTemplate\n",
    "from langchain.chains import LLMChain"
   ]
  },
  {
   "cell_type": "code",
   "execution_count": 31,
   "id": "3ad5545e-5055-4d1a-9bf3-5a8e29f6bc67",
   "metadata": {},
   "outputs": [],
   "source": [
    "template = '''\n",
    "Write a concise and short summary of the following text:\n",
    "TEXT: `{text}`\n",
    "Translate the summary to {language}.\n",
    "'''\n",
    "prompt = PromptTemplate(\n",
    "    input_variables=['text', 'language'],\n",
    "    template=template\n",
    ")"
   ]
  },
  {
   "cell_type": "code",
   "execution_count": 33,
   "id": "79e0b1b7-f6b0-4590-a3e1-69b59cd09599",
   "metadata": {},
   "outputs": [
    {
     "data": {
      "text/plain": [
       "425"
      ]
     },
     "execution_count": 33,
     "metadata": {},
     "output_type": "execute_result"
    }
   ],
   "source": [
    "llm.get_num_tokens(prompt.format(text=text, language='English'))"
   ]
  },
  {
   "cell_type": "code",
   "execution_count": 35,
   "id": "c5e1ecdc-4c4d-49ce-978c-984d3da47d7e",
   "metadata": {},
   "outputs": [],
   "source": [
    "chain = LLMChain(llm=llm, prompt=prompt)\n",
    "summary = chain.run({'text': text, 'language':'Chinese'})"
   ]
  },
  {
   "cell_type": "code",
   "execution_count": 37,
   "id": "eaa51f05-ac2c-450a-b77e-5e30f1272c39",
   "metadata": {},
   "outputs": [
    {
     "name": "stdout",
     "output_type": "stream",
     "text": [
      "加拿大最大的专有忠诚计划Avion Rewards被认可为2023年国际忠诚奖美洲区年度国际忠诚计划和最佳金融产品忠诚/福利奖。他们扩大了对所有加拿大人的访问，无论他们在哪里银行或购物，为他们带来了无与伦比的节省和灵活性，并在奖励计划提供福利方面进行了根本性转变。他们与METRO Inc.宣布了新的忠诚合作伙伴关系，推出了无年费的moi RBC® Visa‡信用卡，该卡可在所有购买上赚取Moi‡积分，并允许持卡人从Avion Rewards及其广泛的商户合作伙伴网络中获得独特的节省和优惠。他们还推出了加拿大的新首次购房储蓄账户（FHSA），以帮助加拿大人为他们的第一套房子免税储蓄，并通过多种渠道（包括RBC直接投资、RBC InvestEase®和RBC分行顾问）尽快方便地提供。他们收购了OJOHome Canada Ltd.，该公司运营着一个综合的房地产技术平台HousefulTM（前身为OJO），通过人工智能（AI）进一步简化了加拿大人的购房之旅，同时通过直观、数字化和见解驱动的体验在每个阶段支持他们。他们通过RBC PayEdgeTM平台继续建设世界一流的能力，利用数据增加战略价值，通过行业和客户特定的见解为我们的商业客户提供优越的营运资本解决方案。他们继续专注于关键的高增长和高价值领域，如青少年和年轻成年人、新移民、企业主、医疗保健专业人士、退休人员和高净值客户。他们通过新移民和新合作伙伴（包括ICICI Bank Canada）实现了大量新客户的获取。\n"
     ]
    }
   ],
   "source": [
    "print(summary)"
   ]
  },
  {
   "cell_type": "markdown",
   "id": "d543dd99-3536-4fbb-b75c-10ff9113c555",
   "metadata": {},
   "source": [
    "### Summarizing using SuffDocumentChain"
   ]
  },
  {
   "cell_type": "code",
   "execution_count": 42,
   "id": "dc4e250d-ac13-4ea0-b8fc-295ceaa43b42",
   "metadata": {},
   "outputs": [],
   "source": [
    "from langchain import PromptTemplate\n",
    "from langchain_openai import ChatOpenAI\n",
    "from langchain.chains.summarize import load_summarize_chain\n",
    "from langchain.docstore.document import Document\n"
   ]
  },
  {
   "cell_type": "code",
   "execution_count": 46,
   "id": "69a5cd7a-7ff2-469b-98e8-351fb9884a9e",
   "metadata": {},
   "outputs": [],
   "source": [
    "with open('sj.txt', encoding='utf-8') as f:\n",
    "    text = f.read()\n",
    "\n",
    "# text\n",
    "\n",
    "docs = [Document(page_content=text)]\n",
    "llm = ChatOpenAI(temperature=0, model_name='gpt-3.5-turbo')"
   ]
  },
  {
   "cell_type": "code",
   "execution_count": 48,
   "id": "1cafe870-accb-4653-8af4-15a951d6d37c",
   "metadata": {},
   "outputs": [],
   "source": [
    "template = '''Write a concise and short summary of the following text.\n",
    "TEXT: `{text}`\n",
    "'''\n",
    "prompt = PromptTemplate(\n",
    "    input_variables=['text'],\n",
    "    template=template\n",
    ")"
   ]
  },
  {
   "cell_type": "code",
   "execution_count": 50,
   "id": "56072ae3-dedc-4112-9046-95d7590c9c61",
   "metadata": {},
   "outputs": [],
   "source": [
    "chain = load_summarize_chain(\n",
    "    llm,\n",
    "    chain_type='stuff',\n",
    "    prompt=prompt,\n",
    "    verbose=False\n",
    ")\n",
    "output_summary = chain.run(docs)"
   ]
  },
  {
   "cell_type": "code",
   "execution_count": 52,
   "id": "a750c91d-6c83-4ff6-907b-50ae5cb18ca8",
   "metadata": {},
   "outputs": [
    {
     "name": "stdout",
     "output_type": "stream",
     "text": [
      "The speaker shares three stories from his life during a commencement speech. The first story is about connecting the dots and dropping out of college, leading to unexpected opportunities. The second story is about love and loss, including being fired from the company he co-founded. The third story is about facing death and the importance of following one's heart and intuition. The speaker encourages the audience to stay hungry and stay foolish as they begin anew.\n"
     ]
    }
   ],
   "source": [
    "print(output_summary)"
   ]
  },
  {
   "cell_type": "markdown",
   "id": "6f004b17-3a6d-40dc-89ab-db9262beb6d2",
   "metadata": {},
   "source": [
    "### Summarizing Large Documents Using map_reduce"
   ]
  },
  {
   "cell_type": "code",
   "execution_count": 57,
   "id": "ea91c589-b364-478f-beb3-0e94c0390ac9",
   "metadata": {},
   "outputs": [],
   "source": [
    "from langchain import PromptTemplate\n",
    "from langchain_openai import ChatOpenAI\n",
    "from langchain.chains.summarize import load_summarize_chain\n",
    "from langchain.text_splitter import RecursiveCharacterTextSplitter"
   ]
  },
  {
   "cell_type": "code",
   "execution_count": 59,
   "id": "ca2f315f-a1f0-47da-a8c1-b7458b018c4c",
   "metadata": {},
   "outputs": [],
   "source": [
    "with open('sj.txt', encoding='utf-8') as f:\n",
    "    text = f.read()\n",
    "\n",
    "llm = ChatOpenAI(temperature=0, model_name='gpt-3.5-turbo')"
   ]
  },
  {
   "cell_type": "code",
   "execution_count": 61,
   "id": "312505d2-eb65-4e54-a6a8-a87f5e768be9",
   "metadata": {},
   "outputs": [
    {
     "data": {
      "text/plain": [
       "2653"
      ]
     },
     "execution_count": 61,
     "metadata": {},
     "output_type": "execute_result"
    }
   ],
   "source": [
    "llm.get_num_tokens(text)"
   ]
  },
  {
   "cell_type": "code",
   "execution_count": 69,
   "id": "37699601-cde5-4906-a2bd-5ff77cfe0d96",
   "metadata": {},
   "outputs": [],
   "source": [
    "text_splitter = RecursiveCharacterTextSplitter(chunk_size=10000, chunk_overlap=50)\n",
    "chunks = text_splitter.create_documents([text])"
   ]
  },
  {
   "cell_type": "code",
   "execution_count": 71,
   "id": "67e8f58b-d7ee-4a0e-9ebd-c8ae5d2a8e06",
   "metadata": {},
   "outputs": [
    {
     "data": {
      "text/plain": [
       "2"
      ]
     },
     "execution_count": 71,
     "metadata": {},
     "output_type": "execute_result"
    }
   ],
   "source": [
    "len(chunks)"
   ]
  },
  {
   "cell_type": "code",
   "execution_count": 73,
   "id": "26b69b34-eaf4-4fde-a546-f017bcd992a3",
   "metadata": {},
   "outputs": [],
   "source": [
    "# chain_type is map reduce\n",
    "chain = load_summarize_chain(\n",
    "    llm,\n",
    "    chain_type='map_reduce',\n",
    "    verbose=False\n",
    ")\n",
    "output_summary = chain.invoke(chunks)"
   ]
  },
  {
   "cell_type": "code",
   "execution_count": 74,
   "id": "bda0e49f-ecb0-48c2-af7b-bd106410e531",
   "metadata": {},
   "outputs": [
    {
     "name": "stdout",
     "output_type": "stream",
     "text": [
      "Steve Jobs shares three stories from his life in his commencement speech, highlighting the importance of following one's passion, not settling, and living each day as if it were your last. He reflects on the inevitability of death and encourages the audience to stay hungry and foolish, embrace new opportunities, and follow their intuition. Jobs also references The Whole Earth Catalog's message of staying curious and open-minded.\n"
     ]
    }
   ],
   "source": [
    "# output_summary is a dict with 2 keys: 'input_documents' and 'output_text'\n",
    "# displaying the summary\n",
    "print(output_summary['output_text'])"
   ]
  },
  {
   "cell_type": "code",
   "execution_count": 77,
   "id": "3b3eb171-afaf-41e3-a0e2-e89892cfacb8",
   "metadata": {},
   "outputs": [
    {
     "data": {
      "text/plain": [
       "'Write a concise summary of the following:\\n\\n\\n\"{text}\"\\n\\n\\nCONCISE SUMMARY:'"
      ]
     },
     "execution_count": 77,
     "metadata": {},
     "output_type": "execute_result"
    }
   ],
   "source": [
    "chain.llm_chain.prompt.template"
   ]
  },
  {
   "cell_type": "code",
   "execution_count": 79,
   "id": "6d5c4304-726c-419c-a60b-fbe86920c11f",
   "metadata": {},
   "outputs": [
    {
     "data": {
      "text/plain": [
       "'Write a concise summary of the following:\\n\\n\\n\"{text}\"\\n\\n\\nCONCISE SUMMARY:'"
      ]
     },
     "execution_count": 79,
     "metadata": {},
     "output_type": "execute_result"
    }
   ],
   "source": [
    "chain.combine_document_chain.llm_chain.prompt.template"
   ]
  },
  {
   "cell_type": "markdown",
   "id": "86836b95-f06a-49cc-8f1b-ad627b699eb3",
   "metadata": {},
   "source": [
    "### Map_reduce with Custom Prompts"
   ]
  },
  {
   "cell_type": "code",
   "execution_count": 151,
   "id": "1fbed468-499b-4c73-a2ca-f02f4dc78d73",
   "metadata": {},
   "outputs": [],
   "source": [
    "map_prompt = '''\n",
    "Write a short and concise summary of the following:\n",
    "Text: `{text}`\n",
    "CONCISE SUMMARY:\n",
    "'''\n",
    "map_prompt_template = PromptTemplate(\n",
    "    input_variables=['text'],\n",
    "    template=map_prompt\n",
    ")"
   ]
  },
  {
   "cell_type": "code",
   "execution_count": 153,
   "id": "1af831e9-3f91-4ad9-ad46-fd56018a6754",
   "metadata": {},
   "outputs": [],
   "source": [
    "combine_prompt = '''\n",
    "Write a concise summary of the following text that covers the key points.\n",
    "Add a title to the summary.\n",
    "Start your summary with an INTRODUCTION PARAGRAPH that gives an overview of the topic FOLLOWED\n",
    "by BULLET POINTS if possible AND end the summary with a CONCLUSION PHRASE.\n",
    "Text: `{text}`\n",
    "'''\n",
    "combine_prompt_template = PromptTemplate(template=combine_prompt, input_variables=['text'])"
   ]
  },
  {
   "cell_type": "code",
   "execution_count": 155,
   "id": "10c5f6ff-7cad-4df9-9b0d-bf52902ed4ce",
   "metadata": {},
   "outputs": [],
   "source": [
    "summary_chain = load_summarize_chain(\n",
    "    llm=llm,\n",
    "    chain_type='map_reduce',\n",
    "    map_prompt=map_prompt_template,\n",
    "    combine_prompt=combine_prompt_template,\n",
    "    verbose=False\n",
    ")\n",
    "output = summary_chain.invoke(chunks)"
   ]
  },
  {
   "cell_type": "code",
   "execution_count": 156,
   "id": "de3a34e3-0343-4419-a731-4c4312b19427",
   "metadata": {},
   "outputs": [
    {
     "name": "stdout",
     "output_type": "stream",
     "text": [
      "Title: Exploring the Diverse Applications of Generative AI\n",
      "\n",
      "Introduction:\n",
      "Generative AI has revolutionized various industries by creating novel content in text, images, video, and more. This paper surveys over 350 generative AI applications across different domains to showcase the capabilities and impact of models like ChatGPT and DALL-E.\n",
      "\n",
      "Key Points:\n",
      "- Generative AI models can transform input formats into multimedia outputs like text, audio, and video, benefiting industries such as advertising, entertainment, and education.\n",
      "- The review of generative AI technologies highlights their uses in text, images, video, 3D, and more, offering valuable insights for researchers and professionals.\n",
      "- The evolving landscape of generative AI provides endless possibilities for content creation and transformation, shaping industries and providing innovative solutions for diverse needs.\n",
      "- Generative AI applications span across sectors like art, business, biotechnology, and design, categorized into text, images, video, 3D, and code/software based on the output produced.\n",
      "\n",
      "Conclusion:\n",
      "The diverse applications of generative AI showcase its potential to revolutionize content creation and provide innovative solutions across various industries.\n"
     ]
    }
   ],
   "source": [
    "# output is a dict with 2 keys: 'input_documents' and 'output_text'\n",
    "# displaying the summary\n",
    "print(output['output_text'])"
   ]
  },
  {
   "cell_type": "markdown",
   "id": "6ca3e805-cecc-4f0c-ae37-2929b679c3f0",
   "metadata": {},
   "source": [
    "### Summarizing Using the refine Chain"
   ]
  },
  {
   "cell_type": "code",
   "execution_count": 95,
   "id": "83f524fa-40c5-44fb-a19b-bada9357bff6",
   "metadata": {},
   "outputs": [],
   "source": [
    "from langchain_openai import ChatOpenAI\n",
    "from langchain import PromptTemplate\n",
    "from langchain.chains.summarize import load_summarize_chain\n",
    "from langchain.text_splitter import RecursiveCharacterTextSplitter\n",
    "# from langchain.document_loaders import UnstructuredPDFLoader\n",
    "from langchain.document_loaders import PyPDFLoader"
   ]
  },
  {
   "cell_type": "code",
   "execution_count": 147,
   "id": "0152e849-b3f2-4279-8005-4f2a3e5b0464",
   "metadata": {},
   "outputs": [],
   "source": [
    "loader = PyPDFLoader('A_survey_of_Generative_AI_Applications.pdf')\n",
    "data = loader.load()"
   ]
  },
  {
   "cell_type": "code",
   "execution_count": 148,
   "id": "8f825daf-c036-46fc-b260-63e790dcd923",
   "metadata": {},
   "outputs": [],
   "source": [
    "text_splitter = RecursiveCharacterTextSplitter(chunk_size=10000, chunk_overlap=100)\n",
    "chunks = text_splitter.split_documents(data)"
   ]
  },
  {
   "cell_type": "code",
   "execution_count": 129,
   "id": "72ce5b5b-994b-4ecb-8045-7e060aac5a81",
   "metadata": {},
   "outputs": [
    {
     "data": {
      "text/plain": [
       "3"
      ]
     },
     "execution_count": 129,
     "metadata": {},
     "output_type": "execute_result"
    }
   ],
   "source": [
    "len(chunks)"
   ]
  },
  {
   "cell_type": "code",
   "execution_count": 131,
   "id": "1cc53bc7-6278-4587-a745-468a2b8a4f65",
   "metadata": {},
   "outputs": [],
   "source": [
    "llm = ChatOpenAI(temperature=0, model_name='gpt-3.5-turbo')"
   ]
  },
  {
   "cell_type": "code",
   "execution_count": 135,
   "id": "e457102e-76a9-4c16-ae05-faac5a559a26",
   "metadata": {},
   "outputs": [],
   "source": [
    "chain = load_summarize_chain(\n",
    "    llm=llm,\n",
    "    chain_type='refine',\n",
    "    verbose=False\n",
    ")\n",
    "output_summary = chain.invoke(chunks)"
   ]
  },
  {
   "cell_type": "code",
   "execution_count": 137,
   "id": "2f86585b-3af3-48c4-be0f-90b80b9c2790",
   "metadata": {},
   "outputs": [
    {
     "name": "stdout",
     "output_type": "stream",
     "text": [
      "{'input_documents': [Document(metadata={'source': 'A_survey_of_Generative_AI_Applications.pdf', 'page': 0}, page_content='arXiv:2306.02781v1  [cs.LG]  5 Jun 2023A survey of Generative AI Applications\\nRoberto Gozalo-Brizuela, Eduardo C. Garrido-Merch´ an\\nQuantitative Methods Department, Universidad Pontiﬁcia C omillas, Madrid, Spain\\n201905616@alu.comillas.edu, ecgarrido@icade.comillas .edu\\nAbstract. Generative AI has experienced remarkable growth in recent\\nyears, leading to a wide array of applications across divers e domains. In\\nthis paper, we present a comprehensive survey of more than 35 0 gen-\\nerative AI applications, providing a structured taxonomy a nd concise\\ndescriptions of various unimodal and even multimodal gener ative AIs.\\nThe survey is organized into sections, covering a wide range of unimodal\\ngenerative AI applications such as text, images, video, gam ing and brain\\ninformation. Our survey aims to serve as a valuable resource for re-\\nsearchers and practitioners to navigate the rapidly expand ing landscape\\nof generative AI, facilitating a better understanding of th e current state-\\nof-the-art and fostering further innovation in the ﬁeld.\\n1 Introduction\\nThe emergence of groundbreakinggenerative AI models, such as C hatGPT [229]\\nand DALL-E [247], has catalyzed a new era in the synthesis and manipu lation\\nof digital content. Concretely, these powerful machine learning a lgorithms have\\ndemonstrated unprecedented capabilities in synthesizing realistic im ages, audio,\\ntext, and other data modalities [153]. In particular, these state- of-the-art lan-\\nguage and image generation models, leveraging the prowess of deep learning and\\ntransformer architectures, have enabled the generation of a va st array of ﬁelds.\\nGenerative AI refers to artiﬁcial intelligence that can generate no vel content,\\nrather than simply analyzing or acting on existing data like expert sys tems\\n[219]. Generative AI models, equipped with vast data sets and intrica te designs,\\nhave the extraordinary capability to create new and diverse conte nt. They can\\nprocess and learn from information gathered from a multitude of so urces, such\\nas Wikipedia [262], Github [94] and others. By tapping into this wealth of data,\\nthese models can generate an extensive range of multimedia format s, including\\nvideo, audio, and text.\\nDuring the recent years, the continuous growth in computing powe r has used\\ndeep neural networks [188], transformers and other innovative m odels like gen-\\nerative adversarial networks [113] and variational autoencode rs [219]. All these\\nmodels can eﬀectively capture the complexity of data, making them a dept at\\nmodeling high-dimensional probability distributions of language or imag es from\\nspeciﬁcorgeneraldomains.Bycomplementinggenerativemodelswit hadditional\\ntechniques that map the latent high-dimensional semantic space of language or'), Document(metadata={'source': 'A_survey_of_Generative_AI_Applications.pdf', 'page': 1}, page_content='2 Roberto Gozalo-Brizuela, Eduardo C. Garrido-Merch´ an\\nimages to multimedia representations of text, audio, or video, it bec omes possi-\\nble to transform any input format, such as text, into a variety of o utput formats\\nlike video. This versatility allows for a seamless conversion between mu ltimedia\\nformats, making generative models invaluable in numerous application s. One of\\nthe most signiﬁcant aspects of generative AI is its potential for en dless applica-\\ntions. These models can be trained to generate genuinely diﬀerent m ultimedia\\nformats, like video, audio, or text, from various input formats. Fo r instance,\\ngenerative AI can be used to create realistic images from textual d escriptions,\\nproduce video content from audio, or even generate music compos itions based\\non speciﬁc styles or emotions. Furthermore, generative AI has th e potential to\\nrevolutionize industries such as advertising, entertainment, and e ducation by\\nautomating content creation and providing personalized experienc es. With the\\nability to learn from diverse data sources and generate a wide array of multi-\\nmedia outputs, these models can help businesses and individuals alike s ave time\\nand resources while tapping into new creative possibilities.In conclusio n, genera-\\ntive AI models, bolstered by their access to extensive data and com plex designs,\\noﬀer unparalleled potential in content creation and transformatio n. Their ability\\nto learn from various sources, generate diverse multimedia format s, and convert\\ninputs from one format to another opens up a vast array of applica tions in mul-\\ntimedia generation and conversion, making them indispensable tools in today’s\\ntechnology-driven world.\\nIn more recent work, there have been surveys of LLMs, and of Ge nerative AI,\\ntalkingaboutdiﬀerentapplicationsofthetechnology[328,85,323,326 ,324,68,325].\\nIn contrast to prior surveys, this comprehensive review aims to oﬀ er a unique\\nperspective by highlighting not only the most prominent generative m odels and\\ntheir underlying technologies but also by emphasizing on all the diﬀere nt uses of\\nthis technology. In addition, we give an up-to-date competitive out look in this\\ngrowing industry and the models behind this growth.\\nThis resource encompasses 15 categories, which include text, imag es, video,\\n3D,codeandsoftware,speech,AIunderstanding,business,ga ming,music,biotech,\\nbrain, others, and multimodal. Within each section, a thorough taxo nomy of the\\ncurrent technologies is presented, detailing both the models and to ols available.\\nBy oﬀering a systematic exploration of these diverse AI applications , the survey\\nserves as an essential reference for researchers, academics, and professionals, en-\\nabling them to comprehend better the evolving landscape of genera tive AI and\\nits far-reaching implications.\\nAs an example, a 3D game designer may have various generative AI ne eds\\nfor a project of his. He may ﬁnd a solution for his 3D AI needs under b oth 3D\\nand gaming, getting more speciﬁc results and diﬀerent answers.He may also ﬁnd\\nsolutions for more business needs of his under both business and te xt. With this\\nsurvey, we believe that users will get a very good outlook of how Gen erative AI\\nis shaping up and where they may ﬁnd their needed technology.\\nWe introduce, in this article, the proposition of an extensive dictiona ry cen-\\ntered on the most sought-after generative AI applications, which are notably\\nreshaping industries such as the videogames [199], design [183], and b usiness op-'), Document(metadata={'source': 'A_survey_of_Generative_AI_Applications.pdf', 'page': 2}, page_content='State of the Art of Generative AI 3\\nerations [2] sectors. The challenge users experience in identifying t he developed\\nprograms within each distinct application ﬁeld substantiates the dem and for a\\ncomprehensive reference tool.\\n2 Basic Taxonomy of models\\nThis article explores the burgeoning applications of generative AI, f ocusing on\\nits transformative potential across diverse sectors, such as ar t, business, biotech-\\nnology, and design. We achieve this by dividing Generative AI into 13 pa rts by\\nboth the output that is produced, the context in which they are be ing used\\nand the business use that this technology has. The reader may obs erve that\\nmany models could be placed in the text category as the output is tex t. Or that\\nmany copywriting models could also be placed under the text categor y. The\\nclassiﬁcation that is shown below serves for a prospective user of g enerative AI\\ntechnologies to quickly ﬁnd the technology they shall be using based on the use\\ncase. In this ﬁrst part, we introduce the categories in which we tax onomized\\ncurrent Generative AI technology. Here we present a summary of the diﬀerent\\ncategories: Regarding text, Generative AI technologies in the tex t category aim\\nto create and manipulate natural language text. These technolog ies include lan-\\nguagemodels that can generate human-liketext, such as OpenAI’s GPT models.\\nWhile the most famousof these models are chatbotssuch as OpenAI ’s ChatGPT\\nor Google’s BARD, other types of models are included in this category . These\\ninclude text-writing assistants, scientiﬁc language models or chatb ots. The main\\ncriterion for this category was that the models produce text as an output. Con-\\ncerning images, Generative AI technologies in the images category f ocus on the\\ncreation and manipulation of visual images. The main criteria in this cat egory\\nwas that the ﬁnal output was an image. This can include image creatin g models\\nthat can create images out of textual descriptions and image editin g models. For\\nsimplicity, the category was divided into artistic image creation, realis tic image\\ncreation and image editing. Some models that did two or more of these tasks\\nare arbitrarily included in one of the categories. Other models of this category\\ninclude text-to-layouts and text-to-molecular representations which could not\\nbe included in the aforementioned categories. Dealing with video, Gen erative AI\\ntechnologies in the video category aim to create and manipulate video content.\\nThe main criteria for this category was that the ﬁnal output was a v ideo. This\\nmainly includes video creation models that can generate new video con tent from\\ntextual descriptions. Other models include post production, text -to-scene gen-\\neration, text-to-motion capture, image-to-video as well as video dubbing. Also\\nworking with 3D, Generative AI technologies in the 3D category focu s on the\\ncreation and manipulation of three-dimensional objects and enviro nments. The\\nmain criteriawas usingthe output being a fully formed 3Dmodel. Alsoinc luded,\\nthere is a 4-D model and a 3-D model specially designed for metavers e purposes.\\nInputs include text, a single image,images and 2D models. Focusing on c ode\\nand software, Generative AI technologies in the code and softwar e category aim\\nto automate the process of writing code and creating software. T he main cri-')], 'output_text': 'This paper provides a survey of over 350 generative AI applications across various domains, including text, images, video, gaming, and brain information. It discusses the emergence of groundbreaking generative AI models and their capabilities in synthesizing realistic content. The survey aims to serve as a valuable resource for researchers and practitioners to navigate the expanding landscape of generative AI and foster further innovation in the field. The survey also highlights the diverse uses of generative AI technology, offering insights into different applications and providing a comprehensive taxonomy of current technologies in 15 categories. This resource aims to help professionals better understand the evolving landscape of generative AI and its implications across various industries, including art, business, biotechnology, and design.'}\n"
     ]
    }
   ],
   "source": [
    "print(output_summary)"
   ]
  },
  {
   "cell_type": "markdown",
   "id": "1c89384b-aa92-4ce0-aed6-7607948673d3",
   "metadata": {},
   "source": [
    "### Refine With Custom Prompts"
   ]
  },
  {
   "cell_type": "code",
   "execution_count": 141,
   "id": "dcff445f-fae9-4d0b-a809-c82ccc1c6b1a",
   "metadata": {},
   "outputs": [],
   "source": [
    "prompt_template = \"\"\"Write a concise summary of the following extracting the key information:\n",
    "Text: `{text}`\n",
    "CONCISE SUMMARY:\"\"\"\n",
    "initial_prompt = PromptTemplate(template=prompt_template, input_variables=['text'])\n",
    "\n",
    "refine_template = '''\n",
    "    Your job is to produce a final summary.\n",
    "    I have provided an existing summary up to a certain point: {existing_answer}.\n",
    "    Please refine the existing summary with some more context below.\n",
    "    ------------\n",
    "    {text}\n",
    "    ------------\n",
    "    Start the final summary with an INTRODUCTION PARAGRAPH that gives an overview of the topic FOLLOWED\n",
    "    by BULLET POINTS if possible AND end the summary with a CONCLUSION PHRASE.\n",
    "    \n",
    "'''\n",
    "refine_prompt = PromptTemplate(\n",
    "    template=refine_template,\n",
    "    input_variables=['existing_answer', 'text']\n",
    ")\n"
   ]
  },
  {
   "cell_type": "code",
   "execution_count": 143,
   "id": "8f24e0ec-019c-41d1-b4fd-84a63a3bc1a9",
   "metadata": {},
   "outputs": [],
   "source": [
    "chain = load_summarize_chain(\n",
    "    llm=llm,\n",
    "    chain_type='refine',\n",
    "    question_prompt=initial_prompt,\n",
    "    refine_prompt=refine_prompt,\n",
    "    return_intermediate_steps=False\n",
    "    \n",
    ")\n",
    "output_summary = chain.invoke(chunks)"
   ]
  },
  {
   "cell_type": "code",
   "execution_count": 144,
   "id": "cb551003-7d4d-4141-9640-ff84d4ece7d7",
   "metadata": {},
   "outputs": [
    {
     "name": "stdout",
     "output_type": "stream",
     "text": [
      "Introduction:\n",
      "Generative AI has rapidly advanced in recent years, showcasing its transformative potential across various industries such as art, business, biotechnology, and design. This paper provides a comprehensive survey of over 350 generative AI applications, categorizing them based on the output produced, the context of use, and the business applications.\n",
      "\n",
      "Key Points:\n",
      "- The survey covers 13 categories of generative AI applications, including text, images, video, 3D models, and code and software.\n",
      "- Generative AI models in the text category focus on creating and manipulating natural language text, including chatbots, text-writing assistants, and scientific language models.\n",
      "- In the images category, generative AI technologies concentrate on generating visual images, such as artistic image creation, realistic image creation, and image editing.\n",
      "- Video category models aim to create and manipulate video content, including video creation, post-production, text-to-scene generation, and image-to-video conversion.\n",
      "- 3D category models focus on creating and manipulating three-dimensional objects and environments, with inputs ranging from text to 2D models.\n",
      "- Code and software category models automate the process of writing code and creating software, streamlining development tasks for programmers and developers.\n",
      "\n",
      "Conclusion:\n",
      "Generative AI models continue to revolutionize content creation and transformation across various sectors, offering innovative solutions and driving advancements in technology.\n"
     ]
    }
   ],
   "source": [
    "# displaying the refined summary\n",
    "print(output_summary['output_text'])"
   ]
  },
  {
   "cell_type": "markdown",
   "id": "8d1e53c3-a423-4b7a-bd6f-7bcdd4320da7",
   "metadata": {},
   "source": [
    "### Summarizing Using LangChain Agents"
   ]
  },
  {
   "cell_type": "code",
   "execution_count": 160,
   "id": "de6f6cd2-eba7-4f59-ba11-a1d3d0880fc4",
   "metadata": {},
   "outputs": [],
   "source": [
    "from langchain_openai import ChatOpenAI\n",
    "from langchain.agents import initialize_agent, Tool\n",
    "from langchain.utilities import WikipediaAPIWrapper"
   ]
  },
  {
   "cell_type": "code",
   "execution_count": 167,
   "id": "519731f1-ca0d-4a03-b9f3-e7a26b8d05b0",
   "metadata": {},
   "outputs": [],
   "source": [
    "llm = ChatOpenAI(temperature=0, model_name='gpt-3.5-turbo')\n",
    "wikipedia = WikipediaAPIWrapper()"
   ]
  },
  {
   "cell_type": "code",
   "execution_count": 169,
   "id": "54966af2-35f0-47df-a760-6b1826a6a0e0",
   "metadata": {},
   "outputs": [],
   "source": [
    "tools = [\n",
    "    Tool(\n",
    "        name=\"Wikipedia\", \n",
    "        func=wikipedia.run,\n",
    "        description=\"Useful for when you need to get information from wikipedia about a single topic\"\n",
    "    )\n",
    "]"
   ]
  },
  {
   "cell_type": "code",
   "execution_count": 171,
   "id": "1cbf2e22-4d04-46aa-97d7-570c8f2805f9",
   "metadata": {},
   "outputs": [],
   "source": [
    "agent_executor = initialize_agent(tools, llm, agent='zero-shot-react-description', verbose=True)"
   ]
  },
  {
   "cell_type": "code",
   "execution_count": 175,
   "id": "29737044-006b-43f5-bc09-d77c2cf78d94",
   "metadata": {},
   "outputs": [
    {
     "name": "stdout",
     "output_type": "stream",
     "text": [
      "\n",
      "\n",
      "\u001b[1m> Entering new AgentExecutor chain...\u001b[0m\n",
      "\u001b[32;1m\u001b[1;3mI should use Wikipedia to get a brief summary of Georgia Tech.\n",
      "Action: Wikipedia\n",
      "Action Input: Georgia Institute of Technology\u001b[0m\n",
      "Observation: \u001b[36;1m\u001b[1;3mPage: Georgia Tech\n",
      "Summary: The Georgia Institute of Technology (commonly referred to as Georgia Tech and GT or, in the state of Georgia, as Tech or the Institute) is a public research university and institute of technology in Atlanta, Georgia. Established in 1885, it is part of the University System of Georgia and has satellite campuses in Savannah, Georgia; Metz, France; Shenzhen, China; and Singapore.\n",
      "The school was founded as the Georgia School of Technology as part of Reconstruction efforts to build an industrial economy in the Southern United States after the Civil War. Initially, it offered only a degree in mechanical engineering. By 1901, its curriculum had expanded to include electrical, civil, and chemical engineering. In 1948, the school changed its name to reflect its evolution from a trade school to a technical institute and research university. Georgia Tech is organized into six colleges with about 31 departments and academic units. It has emphasizes the academic fields of science and technology.\n",
      "Georgia Tech fields eight men's and seven women's teams; these compete in NCAA Division I athletics and have won five national championships. The university is a member of the Atlantic Coast Conference.\n",
      "\n",
      "Page: Traditions of the Georgia Institute of Technology\n",
      "Summary: Numerous Georgia Tech legends and traditions have been established since the school's opening in 1888, some of which have persisted for decades. Over time, the school has grown from a trade school into a large research university, and the traditions reflect that heritage. One of the cherished holdovers from Tech's early years, a steam whistle blows every weekday at various times to mark the changing of classes. It's for this reason that the faculty newspaper is named The Whistle.\n",
      "Some of the traditions are well-known, the most notable being the now-banned tradition of stealing the \"T\" from Tech Tower. Tech Tower, Tech's historic primary administrative building, has the letters TECH hanging atop it on each of its four sides. A number of times, students have orchestrated complex plans to steal the huge symbolic letter T, and on occasion have carried this act out successfully. One especially well-known tradition that has existed nearly since the school's establishment is Clean, Old-Fashioned Hate, Georgia Tech's heated, long-standing and ongoing rivalry with the University of Georgia. The first known hostilities between the two schools trace back to 1891.\n",
      "Several legends originated at Georgia Tech. George P. Burdell, Tech's ever-present fictional student, was created in 1927 when a student filled out two application forms. Burdell went on to lead a long life; he earned several degrees, fought in World War II, and almost won Time's 2001 Person of the Year award. Georgia Tech is also known for the largest margin of victory in a football game, achieved in their 222-0 thrashing of Cumberland University in the 1916 Cumberland vs. Georgia Tech football game.\n",
      "\n",
      "Page: History of the Georgia Institute of Technology\n",
      "Summary: The history of the Georgia Institute of Technology can be traced back to Reconstruction-era plans to develop the industrial base of the Southern United States. Founded on October 13, 1885, in Atlanta as the Georgia School of Technology, the university opened in 1888 after the construction of Tech Tower and a shop building and only offered one degree in mechanical engineering. By 1901, degrees in electrical, civil, textile, and chemical engineering were also offered. In 1948, the name was changed to the Georgia Institute of Technology to reflect its evolution from an engineering school to a full technical institute and research university.\n",
      "The Georgia Institute of Technology (Georgia Tech) is the birthplace of two other Georgia universities: Georgia State University and the former Southern Polytechnic State University. Georgia Tech's Evening School of Commerce, established in 1912 and moved to the University of Georgia in 1931, was independently estab\u001b[0m\n",
      "Thought:\u001b[32;1m\u001b[1;3mI now know the final answer\n",
      "Final Answer: The Georgia Institute of Technology (Georgia Tech) is a public research university and institute of technology in Atlanta, Georgia. It was established in 1885 and is part of the University System of Georgia.\u001b[0m\n",
      "\n",
      "\u001b[1m> Finished chain.\u001b[0m\n"
     ]
    }
   ],
   "source": [
    "output = agent_executor.invoke('Can you please provide a short summary of Georgia Tech?')"
   ]
  },
  {
   "cell_type": "code",
   "execution_count": 177,
   "id": "d72e49c7-e326-4bba-a24e-2221425684e5",
   "metadata": {},
   "outputs": [
    {
     "name": "stdout",
     "output_type": "stream",
     "text": [
      "The Georgia Institute of Technology (Georgia Tech) is a public research university and institute of technology in Atlanta, Georgia. It was established in 1885 and is part of the University System of Georgia.\n"
     ]
    }
   ],
   "source": [
    "print(output['output'])"
   ]
  },
  {
   "cell_type": "code",
   "execution_count": null,
   "id": "fbbb17ec-132d-4ac7-8f76-15edaeafceaf",
   "metadata": {},
   "outputs": [],
   "source": []
  },
  {
   "cell_type": "code",
   "execution_count": null,
   "id": "536f860d-8d6e-44ad-bdec-ff62f8967189",
   "metadata": {},
   "outputs": [],
   "source": []
  },
  {
   "cell_type": "code",
   "execution_count": null,
   "id": "75a82d03-79c5-4ec0-a79f-76e07540f1d7",
   "metadata": {},
   "outputs": [],
   "source": []
  }
 ],
 "metadata": {
  "kernelspec": {
   "display_name": "Python 3 (ipykernel)",
   "language": "python",
   "name": "python3"
  },
  "language_info": {
   "codemirror_mode": {
    "name": "ipython",
    "version": 3
   },
   "file_extension": ".py",
   "mimetype": "text/x-python",
   "name": "python",
   "nbconvert_exporter": "python",
   "pygments_lexer": "ipython3",
   "version": "3.12.4"
  }
 },
 "nbformat": 4,
 "nbformat_minor": 5
}
